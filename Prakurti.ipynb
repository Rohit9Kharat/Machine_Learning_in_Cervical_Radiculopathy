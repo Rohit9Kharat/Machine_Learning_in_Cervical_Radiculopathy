{
 "cells": [
  {
   "cell_type": "code",
   "execution_count": 2,
   "metadata": {},
   "outputs": [],
   "source": [
    "import pandas as pd\n",
    "import matplotlib.pyplot as plt"
   ]
  },
  {
   "cell_type": "code",
   "execution_count": 3,
   "metadata": {},
   "outputs": [],
   "source": [
    "df_sneh = pd.read_excel('For Statistics.xlsx', sheet_name='DataSnehpana', header=0)\n",
    "df_basti = pd.read_excel('For Statistics.xlsx', sheet_name='DataBasti', header=0)\n",
    "df_abhya = pd.read_excel('For Statistics.xlsx', sheet_name='DataAbhyanga', header=0)"
   ]
  },
  {
   "cell_type": "code",
   "execution_count": 4,
   "metadata": {},
   "outputs": [],
   "source": [
    "sneh_vatapitta = df_sneh[df_sneh['Prakurti']=='Vatapitta'].describe().T\n",
    "sneh_vatakapha = df_sneh[df_sneh['Prakurti']=='Vatakapha'].describe().T\n",
    "sneh_kaphapitta = df_sneh[df_sneh['Prakurti']=='Kaphapitta'].describe().T\n",
    "\n",
    "basti_vatapitta = df_basti[df_basti['Prakurti']=='Vatapitta'].describe().T\n",
    "basti_vatakapha = df_basti[df_basti['Prakurti']=='Vatakapha'].describe().T\n",
    "basti_kaphapitta = df_basti[df_basti['Prakurti']=='Kaphapitta'].describe().T\n",
    "\n",
    "abhya_vatapitta = df_abhya[df_abhya['Prakurti']=='Vatapitta'].describe().T\n",
    "abhya_vatakapha = df_abhya[df_abhya['Prakurti']=='Vatakapha'].describe().T\n",
    "abhya_kaphapitta = df_abhya[df_abhya['Prakurti']=='Kaphapitta'].describe().T"
   ]
  },
  {
   "cell_type": "code",
   "execution_count": 5,
   "metadata": {},
   "outputs": [
    {
     "ename": "FileCreateError",
     "evalue": "[Errno 22] Invalid argument: 'F:\\x08asti_vatapitta_statistics.xlsx'",
     "output_type": "error",
     "traceback": [
      "\u001b[1;31m---------------------------------------------------------------------------\u001b[0m",
      "\u001b[1;31mOSError\u001b[0m                                   Traceback (most recent call last)",
      "\u001b[1;32m~\\anaconda3\\lib\\site-packages\\xlsxwriter\\workbook.py\u001b[0m in \u001b[0;36mclose\u001b[1;34m(self)\u001b[0m\n\u001b[0;32m    315\u001b[0m             \u001b[1;32mtry\u001b[0m\u001b[1;33m:\u001b[0m\u001b[1;33m\u001b[0m\u001b[1;33m\u001b[0m\u001b[0m\n\u001b[1;32m--> 316\u001b[1;33m                 \u001b[0mself\u001b[0m\u001b[1;33m.\u001b[0m\u001b[0m_store_workbook\u001b[0m\u001b[1;33m(\u001b[0m\u001b[1;33m)\u001b[0m\u001b[1;33m\u001b[0m\u001b[1;33m\u001b[0m\u001b[0m\n\u001b[0m\u001b[0;32m    317\u001b[0m             \u001b[1;32mexcept\u001b[0m \u001b[0mIOError\u001b[0m \u001b[1;32mas\u001b[0m \u001b[0me\u001b[0m\u001b[1;33m:\u001b[0m\u001b[1;33m\u001b[0m\u001b[1;33m\u001b[0m\u001b[0m\n",
      "\u001b[1;32m~\\anaconda3\\lib\\site-packages\\xlsxwriter\\workbook.py\u001b[0m in \u001b[0;36m_store_workbook\u001b[1;34m(self)\u001b[0m\n\u001b[0;32m    631\u001b[0m         \u001b[1;32mexcept\u001b[0m \u001b[0mIOError\u001b[0m \u001b[1;32mas\u001b[0m \u001b[0me\u001b[0m\u001b[1;33m:\u001b[0m\u001b[1;33m\u001b[0m\u001b[1;33m\u001b[0m\u001b[0m\n\u001b[1;32m--> 632\u001b[1;33m             \u001b[1;32mraise\u001b[0m \u001b[0me\u001b[0m\u001b[1;33m\u001b[0m\u001b[1;33m\u001b[0m\u001b[0m\n\u001b[0m\u001b[0;32m    633\u001b[0m \u001b[1;33m\u001b[0m\u001b[0m\n",
      "\u001b[1;32m~\\anaconda3\\lib\\site-packages\\xlsxwriter\\workbook.py\u001b[0m in \u001b[0;36m_store_workbook\u001b[1;34m(self)\u001b[0m\n\u001b[0;32m    628\u001b[0m         \u001b[1;32mtry\u001b[0m\u001b[1;33m:\u001b[0m\u001b[1;33m\u001b[0m\u001b[1;33m\u001b[0m\u001b[0m\n\u001b[1;32m--> 629\u001b[1;33m             xlsx_file = ZipFile(self.filename, \"w\", compression=ZIP_DEFLATED,\n\u001b[0m\u001b[0;32m    630\u001b[0m                                 allowZip64=self.allow_zip64)\n",
      "\u001b[1;32m~\\anaconda3\\lib\\zipfile.py\u001b[0m in \u001b[0;36m__init__\u001b[1;34m(self, file, mode, compression, allowZip64, compresslevel, strict_timestamps)\u001b[0m\n\u001b[0;32m   1249\u001b[0m                 \u001b[1;32mtry\u001b[0m\u001b[1;33m:\u001b[0m\u001b[1;33m\u001b[0m\u001b[1;33m\u001b[0m\u001b[0m\n\u001b[1;32m-> 1250\u001b[1;33m                     \u001b[0mself\u001b[0m\u001b[1;33m.\u001b[0m\u001b[0mfp\u001b[0m \u001b[1;33m=\u001b[0m \u001b[0mio\u001b[0m\u001b[1;33m.\u001b[0m\u001b[0mopen\u001b[0m\u001b[1;33m(\u001b[0m\u001b[0mfile\u001b[0m\u001b[1;33m,\u001b[0m \u001b[0mfilemode\u001b[0m\u001b[1;33m)\u001b[0m\u001b[1;33m\u001b[0m\u001b[1;33m\u001b[0m\u001b[0m\n\u001b[0m\u001b[0;32m   1251\u001b[0m                 \u001b[1;32mexcept\u001b[0m \u001b[0mOSError\u001b[0m\u001b[1;33m:\u001b[0m\u001b[1;33m\u001b[0m\u001b[1;33m\u001b[0m\u001b[0m\n",
      "\u001b[1;31mOSError\u001b[0m: [Errno 22] Invalid argument: 'F:\\x08asti_vatapitta_statistics.xlsx'",
      "\nDuring handling of the above exception, another exception occurred:\n",
      "\u001b[1;31mFileCreateError\u001b[0m                           Traceback (most recent call last)",
      "\u001b[1;32m<ipython-input-5-ef56f01e9391>\u001b[0m in \u001b[0;36m<module>\u001b[1;34m\u001b[0m\n\u001b[0;32m      3\u001b[0m \u001b[0msneh_kaphapitta\u001b[0m\u001b[1;33m.\u001b[0m\u001b[0mto_excel\u001b[0m\u001b[1;33m(\u001b[0m\u001b[1;34m'H:\\DATASETS\\Pinky Maushi\\sneh_kaphapitta_statistics.xlsx'\u001b[0m\u001b[1;33m)\u001b[0m\u001b[1;33m\u001b[0m\u001b[1;33m\u001b[0m\u001b[0m\n\u001b[0;32m      4\u001b[0m \u001b[1;33m\u001b[0m\u001b[0m\n\u001b[1;32m----> 5\u001b[1;33m \u001b[0mbasti_vatapitta\u001b[0m\u001b[1;33m.\u001b[0m\u001b[0mto_excel\u001b[0m\u001b[1;33m(\u001b[0m\u001b[1;34m'F:\\basti_vatapitta_statistics.xlsx'\u001b[0m\u001b[1;33m)\u001b[0m\u001b[1;33m\u001b[0m\u001b[1;33m\u001b[0m\u001b[0m\n\u001b[0m\u001b[0;32m      6\u001b[0m \u001b[0mbasti_vatakapha\u001b[0m\u001b[1;33m.\u001b[0m\u001b[0mto_excel\u001b[0m\u001b[1;33m(\u001b[0m\u001b[1;34m'F:\\basti_vatakapha_statistics.xlsx'\u001b[0m\u001b[1;33m)\u001b[0m\u001b[1;33m\u001b[0m\u001b[1;33m\u001b[0m\u001b[0m\n\u001b[0;32m      7\u001b[0m \u001b[0mbasti_kaphapitta\u001b[0m\u001b[1;33m.\u001b[0m\u001b[0mto_excel\u001b[0m\u001b[1;33m(\u001b[0m\u001b[1;34m'F:\\basti_kaphapitta_statistics.xlsx'\u001b[0m\u001b[1;33m)\u001b[0m\u001b[1;33m\u001b[0m\u001b[1;33m\u001b[0m\u001b[0m\n",
      "\u001b[1;32m~\\anaconda3\\lib\\site-packages\\pandas\\core\\generic.py\u001b[0m in \u001b[0;36mto_excel\u001b[1;34m(self, excel_writer, sheet_name, na_rep, float_format, columns, header, index, index_label, startrow, startcol, engine, merge_cells, encoding, inf_rep, verbose, freeze_panes)\u001b[0m\n\u001b[0;32m   2173\u001b[0m             \u001b[0minf_rep\u001b[0m\u001b[1;33m=\u001b[0m\u001b[0minf_rep\u001b[0m\u001b[1;33m,\u001b[0m\u001b[1;33m\u001b[0m\u001b[1;33m\u001b[0m\u001b[0m\n\u001b[0;32m   2174\u001b[0m         )\n\u001b[1;32m-> 2175\u001b[1;33m         formatter.write(\n\u001b[0m\u001b[0;32m   2176\u001b[0m             \u001b[0mexcel_writer\u001b[0m\u001b[1;33m,\u001b[0m\u001b[1;33m\u001b[0m\u001b[1;33m\u001b[0m\u001b[0m\n\u001b[0;32m   2177\u001b[0m             \u001b[0msheet_name\u001b[0m\u001b[1;33m=\u001b[0m\u001b[0msheet_name\u001b[0m\u001b[1;33m,\u001b[0m\u001b[1;33m\u001b[0m\u001b[1;33m\u001b[0m\u001b[0m\n",
      "\u001b[1;32m~\\anaconda3\\lib\\site-packages\\pandas\\io\\formats\\excel.py\u001b[0m in \u001b[0;36mwrite\u001b[1;34m(self, writer, sheet_name, startrow, startcol, freeze_panes, engine)\u001b[0m\n\u001b[0;32m    736\u001b[0m         )\n\u001b[0;32m    737\u001b[0m         \u001b[1;32mif\u001b[0m \u001b[0mneed_save\u001b[0m\u001b[1;33m:\u001b[0m\u001b[1;33m\u001b[0m\u001b[1;33m\u001b[0m\u001b[0m\n\u001b[1;32m--> 738\u001b[1;33m             \u001b[0mwriter\u001b[0m\u001b[1;33m.\u001b[0m\u001b[0msave\u001b[0m\u001b[1;33m(\u001b[0m\u001b[1;33m)\u001b[0m\u001b[1;33m\u001b[0m\u001b[1;33m\u001b[0m\u001b[0m\n\u001b[0m",
      "\u001b[1;32m~\\anaconda3\\lib\\site-packages\\pandas\\io\\excel\\_xlsxwriter.py\u001b[0m in \u001b[0;36msave\u001b[1;34m(self)\u001b[0m\n\u001b[0;32m    193\u001b[0m         \"\"\"\n\u001b[0;32m    194\u001b[0m \u001b[1;33m\u001b[0m\u001b[0m\n\u001b[1;32m--> 195\u001b[1;33m         \u001b[1;32mreturn\u001b[0m \u001b[0mself\u001b[0m\u001b[1;33m.\u001b[0m\u001b[0mbook\u001b[0m\u001b[1;33m.\u001b[0m\u001b[0mclose\u001b[0m\u001b[1;33m(\u001b[0m\u001b[1;33m)\u001b[0m\u001b[1;33m\u001b[0m\u001b[1;33m\u001b[0m\u001b[0m\n\u001b[0m\u001b[0;32m    196\u001b[0m \u001b[1;33m\u001b[0m\u001b[0m\n\u001b[0;32m    197\u001b[0m     def write_cells(\n",
      "\u001b[1;32m~\\anaconda3\\lib\\site-packages\\xlsxwriter\\workbook.py\u001b[0m in \u001b[0;36mclose\u001b[1;34m(self)\u001b[0m\n\u001b[0;32m    316\u001b[0m                 \u001b[0mself\u001b[0m\u001b[1;33m.\u001b[0m\u001b[0m_store_workbook\u001b[0m\u001b[1;33m(\u001b[0m\u001b[1;33m)\u001b[0m\u001b[1;33m\u001b[0m\u001b[1;33m\u001b[0m\u001b[0m\n\u001b[0;32m    317\u001b[0m             \u001b[1;32mexcept\u001b[0m \u001b[0mIOError\u001b[0m \u001b[1;32mas\u001b[0m \u001b[0me\u001b[0m\u001b[1;33m:\u001b[0m\u001b[1;33m\u001b[0m\u001b[1;33m\u001b[0m\u001b[0m\n\u001b[1;32m--> 318\u001b[1;33m                 \u001b[1;32mraise\u001b[0m \u001b[0mFileCreateError\u001b[0m\u001b[1;33m(\u001b[0m\u001b[0me\u001b[0m\u001b[1;33m)\u001b[0m\u001b[1;33m\u001b[0m\u001b[1;33m\u001b[0m\u001b[0m\n\u001b[0m\u001b[0;32m    319\u001b[0m             \u001b[1;32mexcept\u001b[0m \u001b[0mLargeZipFile\u001b[0m \u001b[1;32mas\u001b[0m \u001b[0me\u001b[0m\u001b[1;33m:\u001b[0m\u001b[1;33m\u001b[0m\u001b[1;33m\u001b[0m\u001b[0m\n\u001b[0;32m    320\u001b[0m                 raise FileSizeError(\"Filesize would require ZIP64 extensions. \"\n",
      "\u001b[1;31mFileCreateError\u001b[0m: [Errno 22] Invalid argument: 'F:\\x08asti_vatapitta_statistics.xlsx'"
     ]
    }
   ],
   "source": [
    "sneh_vatapitta.to_excel('H:\\DATASETS\\Pinky Maushi\\sneh_vatapitta_statistics.xlsx')\n",
    "sneh_vatakapha.to_excel('H:\\DATASETS\\Pinky Maushi\\sneh_vatakapha_statistics.xlsx')\n",
    "sneh_kaphapitta.to_excel('H:\\DATASETS\\Pinky Maushi\\sneh_kaphapitta_statistics.xlsx')\n",
    "\n",
    "basti_vatapitta.to_excel('F:\\basti_vatapitta_statistics.xlsx')\n",
    "basti_vatakapha.to_excel('F:\\basti_vatakapha_statistics.xlsx')\n",
    "basti_kaphapitta.to_excel('F:\\basti_kaphapitta_statistics.xlsx')\n",
    "\n",
    "abhya_vatapitta.to_excel('H:\\DATASETS\\Pinky Maushi\\hya_vatapitta_statistics.xlsx')\n",
    "abhya_vatakapha.to_excel('H:\\DATASETS\\Pinky Maushi\\hya_vatakapha_statistics.xlsx')\n",
    "abhya_kaphapitta.to_excel('H:\\DATASETS\\Pinky Maushi\\hya_kaphapitta_statistics.xlsx')"
   ]
  },
  {
   "cell_type": "markdown",
   "metadata": {},
   "source": [
    "### Vatapitta"
   ]
  },
  {
   "cell_type": "code",
   "execution_count": 7,
   "metadata": {},
   "outputs": [
    {
     "data": {
      "text/html": [
       "<div>\n",
       "<style scoped>\n",
       "    .dataframe tbody tr th:only-of-type {\n",
       "        vertical-align: middle;\n",
       "    }\n",
       "\n",
       "    .dataframe tbody tr th {\n",
       "        vertical-align: top;\n",
       "    }\n",
       "\n",
       "    .dataframe thead th {\n",
       "        text-align: right;\n",
       "    }\n",
       "</style>\n",
       "<table border=\"1\" class=\"dataframe\">\n",
       "  <thead>\n",
       "    <tr style=\"text-align: right;\">\n",
       "      <th></th>\n",
       "      <th>Neck_Flexion_Diff</th>\n",
       "      <th>Neck_Extension_Diff</th>\n",
       "      <th>Lateral_Rotation_Right_Diff</th>\n",
       "      <th>Lateral_Rotation_Left_Diff</th>\n",
       "      <th>Lateral_Flexion_Right_Diff</th>\n",
       "      <th>Lateral_Flexion_Left_Diff</th>\n",
       "      <th>MNCV_Diff</th>\n",
       "      <th>SNCV_Diff</th>\n",
       "      <th>Pain_Scale</th>\n",
       "    </tr>\n",
       "  </thead>\n",
       "  <tbody>\n",
       "    <tr>\n",
       "      <th>mean</th>\n",
       "      <td>33.842105</td>\n",
       "      <td>32.736842</td>\n",
       "      <td>23.578947</td>\n",
       "      <td>23.578947</td>\n",
       "      <td>20.842105</td>\n",
       "      <td>18.473684</td>\n",
       "      <td>7.750000</td>\n",
       "      <td>7.661053</td>\n",
       "      <td>-2.157895</td>\n",
       "    </tr>\n",
       "    <tr>\n",
       "      <th>mean</th>\n",
       "      <td>39.900000</td>\n",
       "      <td>33.900000</td>\n",
       "      <td>21.050000</td>\n",
       "      <td>23.900000</td>\n",
       "      <td>19.950000</td>\n",
       "      <td>19.500000</td>\n",
       "      <td>12.556000</td>\n",
       "      <td>16.355500</td>\n",
       "      <td>-6.300000</td>\n",
       "    </tr>\n",
       "    <tr>\n",
       "      <th>mean</th>\n",
       "      <td>38.470588</td>\n",
       "      <td>29.588235</td>\n",
       "      <td>23.647059</td>\n",
       "      <td>22.823529</td>\n",
       "      <td>17.470588</td>\n",
       "      <td>19.352941</td>\n",
       "      <td>13.175294</td>\n",
       "      <td>19.975882</td>\n",
       "      <td>-6.647059</td>\n",
       "    </tr>\n",
       "  </tbody>\n",
       "</table>\n",
       "</div>"
      ],
      "text/plain": [
       "      Neck_Flexion_Diff  Neck_Extension_Diff  Lateral_Rotation_Right_Diff  \\\n",
       "mean          33.842105            32.736842                    23.578947   \n",
       "mean          39.900000            33.900000                    21.050000   \n",
       "mean          38.470588            29.588235                    23.647059   \n",
       "\n",
       "      Lateral_Rotation_Left_Diff  Lateral_Flexion_Right_Diff  \\\n",
       "mean                   23.578947                   20.842105   \n",
       "mean                   23.900000                   19.950000   \n",
       "mean                   22.823529                   17.470588   \n",
       "\n",
       "      Lateral_Flexion_Left_Diff  MNCV_Diff  SNCV_Diff  Pain_Scale  \n",
       "mean                  18.473684   7.750000   7.661053   -2.157895  \n",
       "mean                  19.500000  12.556000  16.355500   -6.300000  \n",
       "mean                  19.352941  13.175294  19.975882   -6.647059  "
      ]
     },
     "execution_count": 7,
     "metadata": {},
     "output_type": "execute_result"
    }
   ],
   "source": [
    "s_vap = sneh_vatapitta[sneh_vatapitta.index != 'Age']['mean'].to_frame().T\n",
    "a_vap = abhya_vatapitta[abhya_vatapitta.index != 'Age']['mean'].to_frame().T\n",
    "b_vap = basti_vatapitta[basti_vatapitta.index != 'Age']['mean'].to_frame().T\n",
    "\n",
    "frames = [s_vap, a_vap, b_vap]\n",
    "\n",
    "result_vap = pd.concat(frames)"
   ]
  },
  {
   "cell_type": "code",
   "execution_count": 9,
   "metadata": {},
   "outputs": [],
   "source": [
    "result_vap.index = ['Snehpana', 'Abhyanga', 'Matrabasti']"
   ]
  },
  {
   "cell_type": "code",
   "execution_count": 10,
   "metadata": {},
   "outputs": [
    {
     "data": {
      "text/html": [
       "<div>\n",
       "<style scoped>\n",
       "    .dataframe tbody tr th:only-of-type {\n",
       "        vertical-align: middle;\n",
       "    }\n",
       "\n",
       "    .dataframe tbody tr th {\n",
       "        vertical-align: top;\n",
       "    }\n",
       "\n",
       "    .dataframe thead th {\n",
       "        text-align: right;\n",
       "    }\n",
       "</style>\n",
       "<table border=\"1\" class=\"dataframe\">\n",
       "  <thead>\n",
       "    <tr style=\"text-align: right;\">\n",
       "      <th></th>\n",
       "      <th>Neck_Flexion_Diff</th>\n",
       "      <th>Neck_Extension_Diff</th>\n",
       "      <th>Lateral_Rotation_Right_Diff</th>\n",
       "      <th>Lateral_Rotation_Left_Diff</th>\n",
       "      <th>Lateral_Flexion_Right_Diff</th>\n",
       "      <th>Lateral_Flexion_Left_Diff</th>\n",
       "      <th>MNCV_Diff</th>\n",
       "      <th>SNCV_Diff</th>\n",
       "      <th>Pain_Scale</th>\n",
       "    </tr>\n",
       "  </thead>\n",
       "  <tbody>\n",
       "    <tr>\n",
       "      <th>Snehpana</th>\n",
       "      <td>33.842105</td>\n",
       "      <td>32.736842</td>\n",
       "      <td>23.578947</td>\n",
       "      <td>23.578947</td>\n",
       "      <td>20.842105</td>\n",
       "      <td>18.473684</td>\n",
       "      <td>7.750000</td>\n",
       "      <td>7.661053</td>\n",
       "      <td>-2.157895</td>\n",
       "    </tr>\n",
       "    <tr>\n",
       "      <th>Abhyanga</th>\n",
       "      <td>39.900000</td>\n",
       "      <td>33.900000</td>\n",
       "      <td>21.050000</td>\n",
       "      <td>23.900000</td>\n",
       "      <td>19.950000</td>\n",
       "      <td>19.500000</td>\n",
       "      <td>12.556000</td>\n",
       "      <td>16.355500</td>\n",
       "      <td>-6.300000</td>\n",
       "    </tr>\n",
       "    <tr>\n",
       "      <th>Matrabasti</th>\n",
       "      <td>38.470588</td>\n",
       "      <td>29.588235</td>\n",
       "      <td>23.647059</td>\n",
       "      <td>22.823529</td>\n",
       "      <td>17.470588</td>\n",
       "      <td>19.352941</td>\n",
       "      <td>13.175294</td>\n",
       "      <td>19.975882</td>\n",
       "      <td>-6.647059</td>\n",
       "    </tr>\n",
       "  </tbody>\n",
       "</table>\n",
       "</div>"
      ],
      "text/plain": [
       "            Neck_Flexion_Diff  Neck_Extension_Diff  \\\n",
       "Snehpana            33.842105            32.736842   \n",
       "Abhyanga            39.900000            33.900000   \n",
       "Matrabasti          38.470588            29.588235   \n",
       "\n",
       "            Lateral_Rotation_Right_Diff  Lateral_Rotation_Left_Diff  \\\n",
       "Snehpana                      23.578947                   23.578947   \n",
       "Abhyanga                      21.050000                   23.900000   \n",
       "Matrabasti                    23.647059                   22.823529   \n",
       "\n",
       "            Lateral_Flexion_Right_Diff  Lateral_Flexion_Left_Diff  MNCV_Diff  \\\n",
       "Snehpana                     20.842105                  18.473684   7.750000   \n",
       "Abhyanga                     19.950000                  19.500000  12.556000   \n",
       "Matrabasti                   17.470588                  19.352941  13.175294   \n",
       "\n",
       "            SNCV_Diff  Pain_Scale  \n",
       "Snehpana     7.661053   -2.157895  \n",
       "Abhyanga    16.355500   -6.300000  \n",
       "Matrabasti  19.975882   -6.647059  "
      ]
     },
     "execution_count": 10,
     "metadata": {},
     "output_type": "execute_result"
    }
   ],
   "source": [
    "result_vap"
   ]
  },
  {
   "cell_type": "code",
   "execution_count": 21,
   "metadata": {},
   "outputs": [],
   "source": [
    "result_vap.to_excel('H:\\DATASETS\\Pinky Maushi\\esult_vap.xlsx')\n",
    "result_vap.to_csv('H:\\DATASETS\\Pinky Maushi\\esult_vap.csv')"
   ]
  },
  {
   "cell_type": "code",
   "execution_count": 54,
   "metadata": {
    "collapsed": true,
    "jupyter": {
     "outputs_hidden": true
    }
   },
   "outputs": [
    {
     "name": "stdout",
     "output_type": "stream",
     "text": [
      "-----Snehpana-----\n",
      "Neck_Flexion_Diff              33.842105\n",
      "Neck_Extension_Diff            32.736842\n",
      "Lateral_Rotation_Right_Diff    23.578947\n",
      "Lateral_Rotation_Left_Diff     23.578947\n",
      "Lateral_Flexion_Right_Diff     20.842105\n",
      "Lateral_Flexion_Left_Diff      18.473684\n",
      "MNCV_Diff                       7.750000\n",
      "SNCV_Diff                       7.661053\n",
      "Pain_Scale                     -2.157895\n",
      "Name: mean, dtype: float64\n",
      "\n",
      "-----Abhyanga-----\n",
      "Neck_Flexion_Diff              39.9000\n",
      "Neck_Extension_Diff            33.9000\n",
      "Lateral_Rotation_Right_Diff    21.0500\n",
      "Lateral_Rotation_Left_Diff     23.9000\n",
      "Lateral_Flexion_Right_Diff     19.9500\n",
      "Lateral_Flexion_Left_Diff      19.5000\n",
      "MNCV_Diff                      12.5560\n",
      "SNCV_Diff                      16.3555\n",
      "Pain_Scale                     -6.3000\n",
      "Name: mean, dtype: float64\n",
      "\n",
      "-----Matra Basti-----\n",
      "Neck_Flexion_Diff              38.470588\n",
      "Neck_Extension_Diff            29.588235\n",
      "Lateral_Rotation_Right_Diff    23.647059\n",
      "Lateral_Rotation_Left_Diff     22.823529\n",
      "Lateral_Flexion_Right_Diff     17.470588\n",
      "Lateral_Flexion_Left_Diff      19.352941\n",
      "MNCV_Diff                      13.175294\n",
      "SNCV_Diff                      19.975882\n",
      "Pain_Scale                     -6.647059\n",
      "Name: mean, dtype: float64\n"
     ]
    }
   ],
   "source": [
    "print('-----Snehpana-----')\n",
    "print(sneh_vatapitta[sneh_vatapitta.index != 'Age']['mean'])\n",
    "print()\n",
    "print('-----Abhyanga-----')\n",
    "print(abhya_vatapitta[abhya_vatapitta.index != 'Age']['mean'])\n",
    "print()\n",
    "print('-----Matra Basti-----')\n",
    "print(basti_vatapitta[basti_vatapitta.index != 'Age']['mean'])"
   ]
  },
  {
   "cell_type": "markdown",
   "metadata": {},
   "source": [
    "### Vatakapha"
   ]
  },
  {
   "cell_type": "code",
   "execution_count": 12,
   "metadata": {},
   "outputs": [
    {
     "data": {
      "text/html": [
       "<div>\n",
       "<style scoped>\n",
       "    .dataframe tbody tr th:only-of-type {\n",
       "        vertical-align: middle;\n",
       "    }\n",
       "\n",
       "    .dataframe tbody tr th {\n",
       "        vertical-align: top;\n",
       "    }\n",
       "\n",
       "    .dataframe thead th {\n",
       "        text-align: right;\n",
       "    }\n",
       "</style>\n",
       "<table border=\"1\" class=\"dataframe\">\n",
       "  <thead>\n",
       "    <tr style=\"text-align: right;\">\n",
       "      <th></th>\n",
       "      <th>Neck_Flexion_Diff</th>\n",
       "      <th>Neck_Extension_Diff</th>\n",
       "      <th>Lateral_Rotation_Right_Diff</th>\n",
       "      <th>Lateral_Rotation_Left_Diff</th>\n",
       "      <th>Lateral_Flexion_Right_Diff</th>\n",
       "      <th>Lateral_Flexion_Left_Diff</th>\n",
       "      <th>MNCV_Diff</th>\n",
       "      <th>SNCV_Diff</th>\n",
       "      <th>Pain_Scale</th>\n",
       "    </tr>\n",
       "  </thead>\n",
       "  <tbody>\n",
       "    <tr>\n",
       "      <th>mean</th>\n",
       "      <td>39.066667</td>\n",
       "      <td>29.200000</td>\n",
       "      <td>20.600000</td>\n",
       "      <td>24.000000</td>\n",
       "      <td>17.466667</td>\n",
       "      <td>20.133333</td>\n",
       "      <td>7.872667</td>\n",
       "      <td>3.828000</td>\n",
       "      <td>-3.266667</td>\n",
       "    </tr>\n",
       "    <tr>\n",
       "      <th>mean</th>\n",
       "      <td>41.142857</td>\n",
       "      <td>30.642857</td>\n",
       "      <td>23.071429</td>\n",
       "      <td>24.214286</td>\n",
       "      <td>17.857143</td>\n",
       "      <td>18.500000</td>\n",
       "      <td>16.572857</td>\n",
       "      <td>13.886429</td>\n",
       "      <td>-6.142857</td>\n",
       "    </tr>\n",
       "    <tr>\n",
       "      <th>mean</th>\n",
       "      <td>36.000000</td>\n",
       "      <td>33.555556</td>\n",
       "      <td>23.444444</td>\n",
       "      <td>21.111111</td>\n",
       "      <td>19.222222</td>\n",
       "      <td>16.555556</td>\n",
       "      <td>11.591111</td>\n",
       "      <td>19.317778</td>\n",
       "      <td>-6.444444</td>\n",
       "    </tr>\n",
       "  </tbody>\n",
       "</table>\n",
       "</div>"
      ],
      "text/plain": [
       "      Neck_Flexion_Diff  Neck_Extension_Diff  Lateral_Rotation_Right_Diff  \\\n",
       "mean          39.066667            29.200000                    20.600000   \n",
       "mean          41.142857            30.642857                    23.071429   \n",
       "mean          36.000000            33.555556                    23.444444   \n",
       "\n",
       "      Lateral_Rotation_Left_Diff  Lateral_Flexion_Right_Diff  \\\n",
       "mean                   24.000000                   17.466667   \n",
       "mean                   24.214286                   17.857143   \n",
       "mean                   21.111111                   19.222222   \n",
       "\n",
       "      Lateral_Flexion_Left_Diff  MNCV_Diff  SNCV_Diff  Pain_Scale  \n",
       "mean                  20.133333   7.872667   3.828000   -3.266667  \n",
       "mean                  18.500000  16.572857  13.886429   -6.142857  \n",
       "mean                  16.555556  11.591111  19.317778   -6.444444  "
      ]
     },
     "execution_count": 12,
     "metadata": {},
     "output_type": "execute_result"
    }
   ],
   "source": [
    "s_vak = sneh_vatakapha[sneh_vatakapha.index != 'Age']['mean'].to_frame().T\n",
    "a_vak = abhya_vatakapha[abhya_vatakapha.index != 'Age']['mean'].to_frame().T\n",
    "b_vak = basti_vatakapha[basti_vatakapha.index != 'Age']['mean'].to_frame().T\n",
    "\n",
    "frames = [s_vak, a_vak, b_vak]\n",
    "\n",
    "result_vak = pd.concat(frames)\n",
    "\n",
    "result_vak"
   ]
  },
  {
   "cell_type": "code",
   "execution_count": 22,
   "metadata": {},
   "outputs": [],
   "source": [
    "result_vak.to_excel('H:\\DATASETS\\Pinky Maushi\\esult_vak.xlsx')\n",
    "result_vak.to_csv('H:\\DATASETS\\Pinky Maushi\\esult_vak.csv')"
   ]
  },
  {
   "cell_type": "code",
   "execution_count": 118,
   "metadata": {
    "collapsed": true,
    "jupyter": {
     "outputs_hidden": true
    }
   },
   "outputs": [
    {
     "name": "stdout",
     "output_type": "stream",
     "text": [
      "-----Snehpana-----\n",
      "Neck_Flexion_Diff_Snehpana              39.066667\n",
      "Neck_Extension_Diff_Snehpana            29.200000\n",
      "Lateral_Rotation_Right_Diff_Snehpana    20.600000\n",
      "Lateral_Rotation_Left_Diff_Snehpana     24.000000\n",
      "Lateral_Flexion_Right_Diff_Snehpana     17.466667\n",
      "Lateral_Flexion_Left_Diff_Snehpana      20.133333\n",
      "MNCV_Diff_Snehpana                       7.872667\n",
      "SNCV_Diff_Snehpana                       3.828000\n",
      "Pain_Scale_Snehpana                     -3.266667\n",
      "Name: mean, dtype: float64\n",
      "\n",
      "-----Abhyanga-----\n",
      "Neck_Flexion_Diff_Abhyanga              41.142857\n",
      "Neck_Extension_Diff_Abhyanga            30.642857\n",
      "Lateral_Rotation_Right_Diff_Abhyanga    23.071429\n",
      "Lateral_Rotation_Left_Diff_Abhyanga     24.214286\n",
      "Lateral_Flexion_Right_Diff_Abhyanga     17.857143\n",
      "Lateral_Flexion_Left_Diff_Abhyanga      18.500000\n",
      "MNCV_Diff_Abhyanga                      16.572857\n",
      "SNCV_Diff_Abhyanga                      13.886429\n",
      "Pain_Scale_Abhyanga                     -6.142857\n",
      "Name: mean, dtype: float64\n",
      "\n",
      "-----Matra Basti-----\n",
      "Neck_Flexion_Diff_Basti              36.000000\n",
      "Neck_Extension_Diff_Basti            33.555556\n",
      "Lateral_Rotation_Right_Diff_Basti    23.444444\n",
      "Lateral_Rotation_Left_Diff_Basti     21.111111\n",
      "Lateral_Flexion_Right_Diff_Basti     19.222222\n",
      "Lateral_Flexion_Left_Diff_Basti      16.555556\n",
      "MNCV_Diff_Basti                      11.591111\n",
      "SNCV_Diff_Basti                      19.317778\n",
      "Pain_Scale_Basti\\n                   -6.444444\n",
      "Name: mean, dtype: float64\n"
     ]
    }
   ],
   "source": [
    "print('-----Snehpana-----')\n",
    "print(sneh_vatakapha[sneh_vatakapha.index != 'Age']['mean'])\n",
    "print()\n",
    "print('-----Abhyanga-----')\n",
    "print(abhya_vatakapha[abhya_vatakapha.index != 'Age']['mean'])\n",
    "print()\n",
    "print('-----Matra Basti-----')\n",
    "print(basti_vatakapha[basti_vatakapha.index != 'Age']['mean'])"
   ]
  },
  {
   "cell_type": "markdown",
   "metadata": {},
   "source": [
    "### Kaphapitta"
   ]
  },
  {
   "cell_type": "code",
   "execution_count": 17,
   "metadata": {},
   "outputs": [
    {
     "data": {
      "text/html": [
       "<div>\n",
       "<style scoped>\n",
       "    .dataframe tbody tr th:only-of-type {\n",
       "        vertical-align: middle;\n",
       "    }\n",
       "\n",
       "    .dataframe tbody tr th {\n",
       "        vertical-align: top;\n",
       "    }\n",
       "\n",
       "    .dataframe thead th {\n",
       "        text-align: right;\n",
       "    }\n",
       "</style>\n",
       "<table border=\"1\" class=\"dataframe\">\n",
       "  <thead>\n",
       "    <tr style=\"text-align: right;\">\n",
       "      <th></th>\n",
       "      <th>Neck_Flexion_Diff</th>\n",
       "      <th>Neck_Extension_Diff</th>\n",
       "      <th>Lateral_Rotation_Right_Diff</th>\n",
       "      <th>Lateral_Rotation_Left_Diff</th>\n",
       "      <th>Lateral_Flexion_Right_Diff</th>\n",
       "      <th>Lateral_Flexion_Left_Diff</th>\n",
       "      <th>MNCV_Diff</th>\n",
       "      <th>SNCV_Diff</th>\n",
       "      <th>Pain_Scale</th>\n",
       "    </tr>\n",
       "  </thead>\n",
       "  <tbody>\n",
       "    <tr>\n",
       "      <th>mean</th>\n",
       "      <td>32.833333</td>\n",
       "      <td>30.833333</td>\n",
       "      <td>21.500000</td>\n",
       "      <td>22.000000</td>\n",
       "      <td>21.166667</td>\n",
       "      <td>21.833333</td>\n",
       "      <td>7.633333</td>\n",
       "      <td>1.465000</td>\n",
       "      <td>-2.666667</td>\n",
       "    </tr>\n",
       "    <tr>\n",
       "      <th>mean</th>\n",
       "      <td>35.166667</td>\n",
       "      <td>32.500000</td>\n",
       "      <td>22.666667</td>\n",
       "      <td>21.500000</td>\n",
       "      <td>20.666667</td>\n",
       "      <td>23.000000</td>\n",
       "      <td>13.968333</td>\n",
       "      <td>20.946667</td>\n",
       "      <td>-6.333333</td>\n",
       "    </tr>\n",
       "    <tr>\n",
       "      <th>mean</th>\n",
       "      <td>36.714286</td>\n",
       "      <td>34.500000</td>\n",
       "      <td>23.071429</td>\n",
       "      <td>22.785714</td>\n",
       "      <td>20.285714</td>\n",
       "      <td>17.714286</td>\n",
       "      <td>11.568571</td>\n",
       "      <td>24.170000</td>\n",
       "      <td>-6.357143</td>\n",
       "    </tr>\n",
       "  </tbody>\n",
       "</table>\n",
       "</div>"
      ],
      "text/plain": [
       "      Neck_Flexion_Diff  Neck_Extension_Diff  Lateral_Rotation_Right_Diff  \\\n",
       "mean          32.833333            30.833333                    21.500000   \n",
       "mean          35.166667            32.500000                    22.666667   \n",
       "mean          36.714286            34.500000                    23.071429   \n",
       "\n",
       "      Lateral_Rotation_Left_Diff  Lateral_Flexion_Right_Diff  \\\n",
       "mean                   22.000000                   21.166667   \n",
       "mean                   21.500000                   20.666667   \n",
       "mean                   22.785714                   20.285714   \n",
       "\n",
       "      Lateral_Flexion_Left_Diff  MNCV_Diff  SNCV_Diff  Pain_Scale  \n",
       "mean                  21.833333   7.633333   1.465000   -2.666667  \n",
       "mean                  23.000000  13.968333  20.946667   -6.333333  \n",
       "mean                  17.714286  11.568571  24.170000   -6.357143  "
      ]
     },
     "execution_count": 17,
     "metadata": {},
     "output_type": "execute_result"
    }
   ],
   "source": [
    "s_kap = sneh_kaphapitta[sneh_kaphapitta.index != 'Age']['mean'].to_frame().T\n",
    "a_kap = abhya_kaphapitta[abhya_kaphapitta.index != 'Age']['mean'].to_frame().T\n",
    "b_kap = basti_kaphapitta[basti_kaphapitta.index != 'Age']['mean'].to_frame().T\n",
    "\n",
    "frames = [s_kap, a_kap, b_kap]\n",
    "\n",
    "result_kap = pd.concat(frames)\n",
    "\n",
    "result_kap"
   ]
  },
  {
   "cell_type": "code",
   "execution_count": 24,
   "metadata": {},
   "outputs": [],
   "source": [
    "result_kap.to_excel('H:\\DATASETS\\Pinky Maushi\\esult_kap.xlsx')\n",
    "result_kap.to_csv('H:\\DATASETS\\Pinky Maushi\\esult_kap.csv')"
   ]
  },
  {
   "cell_type": "code",
   "execution_count": 119,
   "metadata": {
    "collapsed": true,
    "jupyter": {
     "outputs_hidden": true
    }
   },
   "outputs": [
    {
     "name": "stdout",
     "output_type": "stream",
     "text": [
      "-----Snehpana-----\n",
      "Neck_Flexion_Diff_Snehpana              32.833333\n",
      "Neck_Extension_Diff_Snehpana            30.833333\n",
      "Lateral_Rotation_Right_Diff_Snehpana    21.500000\n",
      "Lateral_Rotation_Left_Diff_Snehpana     22.000000\n",
      "Lateral_Flexion_Right_Diff_Snehpana     21.166667\n",
      "Lateral_Flexion_Left_Diff_Snehpana      21.833333\n",
      "MNCV_Diff_Snehpana                       7.633333\n",
      "SNCV_Diff_Snehpana                       1.465000\n",
      "Pain_Scale_Snehpana                     -2.666667\n",
      "Name: mean, dtype: float64\n",
      "\n",
      "-----Abhyanga-----\n",
      "Neck_Flexion_Diff_Abhyanga              35.166667\n",
      "Neck_Extension_Diff_Abhyanga            32.500000\n",
      "Lateral_Rotation_Right_Diff_Abhyanga    22.666667\n",
      "Lateral_Rotation_Left_Diff_Abhyanga     21.500000\n",
      "Lateral_Flexion_Right_Diff_Abhyanga     20.666667\n",
      "Lateral_Flexion_Left_Diff_Abhyanga      23.000000\n",
      "MNCV_Diff_Abhyanga                      13.968333\n",
      "SNCV_Diff_Abhyanga                      20.946667\n",
      "Pain_Scale_Abhyanga                     -6.333333\n",
      "Name: mean, dtype: float64\n",
      "\n",
      "-----Matra Basti-----\n",
      "Neck_Flexion_Diff_Basti              36.714286\n",
      "Neck_Extension_Diff_Basti            34.500000\n",
      "Lateral_Rotation_Right_Diff_Basti    23.071429\n",
      "Lateral_Rotation_Left_Diff_Basti     22.785714\n",
      "Lateral_Flexion_Right_Diff_Basti     20.285714\n",
      "Lateral_Flexion_Left_Diff_Basti      17.714286\n",
      "MNCV_Diff_Basti                      11.568571\n",
      "SNCV_Diff_Basti                      24.170000\n",
      "Pain_Scale_Basti\\n                   -6.357143\n",
      "Name: mean, dtype: float64\n"
     ]
    }
   ],
   "source": [
    "print('-----Snehpana-----')\n",
    "print(sneh_kaphapitta[sneh_kaphapitta.index != 'Age']['mean'])\n",
    "print()\n",
    "print('-----Abhyanga-----')\n",
    "print(abhya_kaphapitta[abhya_kaphapitta.index != 'Age']['mean'])\n",
    "print()\n",
    "print('-----Matra Basti-----')\n",
    "print(basti_kaphapitta[basti_kaphapitta.index != 'Age']['mean'])"
   ]
  },
  {
   "cell_type": "code",
   "execution_count": null,
   "metadata": {},
   "outputs": [],
   "source": []
  }
 ],
 "metadata": {
  "kernelspec": {
   "display_name": "Python 3",
   "language": "python",
   "name": "python3"
  },
  "language_info": {
   "codemirror_mode": {
    "name": "ipython",
    "version": 3
   },
   "file_extension": ".py",
   "mimetype": "text/x-python",
   "name": "python",
   "nbconvert_exporter": "python",
   "pygments_lexer": "ipython3",
   "version": "3.8.3"
  }
 },
 "nbformat": 4,
 "nbformat_minor": 4
}
